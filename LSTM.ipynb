{
 "cells": [
  {
   "cell_type": "markdown",
   "id": "b83d2a12",
   "metadata": {},
   "source": [
    "Generate a spectrogram from a .wav file"
   ]
  },
  {
   "cell_type": "code",
   "execution_count": 1,
   "id": "0c18ea13",
   "metadata": {},
   "outputs": [
    {
     "data": {
      "text/plain": [
       "array([[-20.564884  , -29.787586  ,  -7.3620214 , ...,   0.725213  ,\n",
       "         -0.99411374,  -3.0126836 ],\n",
       "       [-19.39139   , -14.051232  ,  -8.910709  , ...,  -2.9069686 ,\n",
       "         -9.905552  ,  -3.6721606 ],\n",
       "       [-18.209446  , -12.80246   , -25.530844  , ..., -12.095527  ,\n",
       "         -5.5859337 ,  -4.383841  ],\n",
       "       ...,\n",
       "       [-47.91812   , -44.987164  , -48.860184  , ..., -49.969803  ,\n",
       "        -49.969803  , -47.85353   ],\n",
       "       [-49.969803  , -49.969803  , -47.564568  , ..., -49.969803  ,\n",
       "        -49.969803  , -46.341     ],\n",
       "       [-49.969803  , -49.969803  , -49.870384  , ..., -49.396095  ,\n",
       "        -44.577984  , -44.82728   ]], dtype=float32)"
      ]
     },
     "execution_count": 1,
     "metadata": {},
     "output_type": "execute_result"
    }
   ],
   "source": [
    "# import matplotlib.pyplot as plt\n",
    "# import IPython.display as ipd \n",
    "import librosa\n",
    "import librosa.display\n",
    "import numpy as np\n",
    "\n",
    "\n",
    "def spectrogram_from_file(file_path, max_freq=10000):\n",
    "    samples, sampling_rate = librosa.load(file_path, sr=None, mono=True, offset=0.0, duration=None)\n",
    "    X = librosa.stft(samples)\n",
    "    return librosa.amplitude_to_db(abs(X))\n",
    "    \n",
    "#     plt.figure(figsize=(14, 5))\n",
    "#     librosa.display.specshow(Xdb, sr=sampling_rate, x_axis='time', y_axis='hz')\n",
    "#     plt.colorbar()\n",
    "\n",
    "spectrogram_from_file(\"audio/hello.wav\")"
   ]
  },
  {
   "cell_type": "code",
   "execution_count": 2,
   "id": "5ad7fb1a",
   "metadata": {},
   "outputs": [],
   "source": [
    "X = []\n",
    "y = []\n",
    "\n",
    "for i in range(1, 21):\n",
    "    X.append(spectrogram_from_file(f\"audio/hello/{i}.wav\"))\n",
    "    y.append(\"hello\")\n",
    "\n",
    "for i in range(1, 21):\n",
    "    X.append(spectrogram_from_file(f\"audio/goodbye/{i}.wav\"))\n",
    "    y.append(\"goodbye\")"
   ]
  },
  {
   "cell_type": "code",
   "execution_count": 10,
   "id": "0574c3ac",
   "metadata": {},
   "outputs": [],
   "source": [
    "from sklearn.model_selection import train_test_split\n",
    "\n",
    "maximum_X = max([i.shape[1] for i in X])\n",
    "# Pad the values of X with 0s upto the maximum time steps and transpose the matrix\n",
    "X = [np.pad(i, [(0,0), (0, maximum_X - i.shape[1])], constant_values=(0,)).T for i in X]\n",
    "\n",
    "X = np.array(X)\n",
    "\n",
    "X_train, X_test, y_train, y_test = train_test_split(X, y, test_size=0.25, random_state=42)"
   ]
  },
  {
   "cell_type": "code",
   "execution_count": 13,
   "id": "f3590d7a",
   "metadata": {},
   "outputs": [
    {
     "data": {
      "text/plain": [
       "array([[[-10.584039  , -12.271805  , -18.568699  , ..., -44.36582   ,\n",
       "         -44.36582   , -44.36582   ],\n",
       "        [  3.5310984 ,   1.8697499 ,  -2.5006914 , ..., -44.36582   ,\n",
       "         -44.36582   , -44.36582   ],\n",
       "        [  5.723032  ,   3.84589   ,   0.34599513, ..., -44.36582   ,\n",
       "         -44.36582   , -44.36582   ],\n",
       "        ...,\n",
       "        [  0.        ,   0.        ,   0.        , ...,   0.        ,\n",
       "           0.        ,   0.        ],\n",
       "        [  0.        ,   0.        ,   0.        , ...,   0.        ,\n",
       "           0.        ,   0.        ],\n",
       "        [  0.        ,   0.        ,   0.        , ...,   0.        ,\n",
       "           0.        ,   0.        ]],\n",
       "\n",
       "       [[ -6.5245295 ,  -8.73455   , -14.086609  , ..., -40.416264  ,\n",
       "         -40.416264  , -40.416264  ],\n",
       "        [ -0.77707887,  -5.365903  , -15.017442  , ..., -40.416264  ,\n",
       "         -40.416264  , -40.416264  ],\n",
       "        [ -2.8432825 ,  -3.7398682 ,  -5.6255636 , ..., -40.416264  ,\n",
       "         -40.416264  , -40.416264  ],\n",
       "        ...,\n",
       "        [  0.        ,   0.        ,   0.        , ...,   0.        ,\n",
       "           0.        ,   0.        ],\n",
       "        [  0.        ,   0.        ,   0.        , ...,   0.        ,\n",
       "           0.        ,   0.        ],\n",
       "        [  0.        ,   0.        ,   0.        , ...,   0.        ,\n",
       "           0.        ,   0.        ]],\n",
       "\n",
       "       [[-13.533941  , -12.499445  , -11.676884  , ..., -47.087208  ,\n",
       "         -47.087208  , -47.087208  ],\n",
       "        [ -7.8068867 ,  -6.7417994 ,  -7.4508615 , ..., -47.087208  ,\n",
       "         -46.55853   , -47.087208  ],\n",
       "        [-29.762613  ,  -8.510139  , -12.385341  , ..., -47.087208  ,\n",
       "         -47.087208  , -47.087208  ],\n",
       "        ...,\n",
       "        [  0.        ,   0.        ,   0.        , ...,   0.        ,\n",
       "           0.        ,   0.        ],\n",
       "        [  0.        ,   0.        ,   0.        , ...,   0.        ,\n",
       "           0.        ,   0.        ],\n",
       "        [  0.        ,   0.        ,   0.        , ...,   0.        ,\n",
       "           0.        ,   0.        ]],\n",
       "\n",
       "       ...,\n",
       "\n",
       "       [[-16.669985  , -14.23944   , -12.244773  , ..., -48.779152  ,\n",
       "         -47.843403  , -47.640106  ],\n",
       "        [ -8.2226515 ,  -3.7150464 ,  -4.9218397 , ..., -44.22009   ,\n",
       "         -48.378006  , -40.75515   ],\n",
       "        [  2.661321  ,   0.86095685,  -8.214533  , ..., -37.265965  ,\n",
       "         -38.487732  , -36.37183   ],\n",
       "        ...,\n",
       "        [  0.        ,   0.        ,   0.        , ...,   0.        ,\n",
       "           0.        ,   0.        ],\n",
       "        [  0.        ,   0.        ,   0.        , ...,   0.        ,\n",
       "           0.        ,   0.        ],\n",
       "        [  0.        ,   0.        ,   0.        , ...,   0.        ,\n",
       "           0.        ,   0.        ]],\n",
       "\n",
       "       [[ -7.687721  ,  -8.76395   , -11.477157  , ..., -44.63215   ,\n",
       "         -47.03727   , -47.03727   ],\n",
       "        [ -2.5674224 ,  -5.6042585 , -17.527163  , ..., -47.03727   ,\n",
       "         -43.661922  , -42.923958  ],\n",
       "        [ -7.1920624 ,  -7.730887  , -13.119102  , ..., -47.03727   ,\n",
       "         -47.03727   , -43.503174  ],\n",
       "        ...,\n",
       "        [  0.        ,   0.        ,   0.        , ...,   0.        ,\n",
       "           0.        ,   0.        ],\n",
       "        [  0.        ,   0.        ,   0.        , ...,   0.        ,\n",
       "           0.        ,   0.        ],\n",
       "        [  0.        ,   0.        ,   0.        , ...,   0.        ,\n",
       "           0.        ,   0.        ]],\n",
       "\n",
       "       [[-24.23922   , -11.020099  ,  -7.933284  , ..., -51.632973  ,\n",
       "         -51.632973  , -50.906864  ],\n",
       "        [-20.709816  ,  -8.097243  ,  -3.890146  , ..., -47.303543  ,\n",
       "         -45.81814   , -51.632973  ],\n",
       "        [ -2.3199067 ,  -0.7197926 , -12.879879  , ..., -45.120346  ,\n",
       "         -41.90134   , -44.45608   ],\n",
       "        ...,\n",
       "        [  0.        ,   0.        ,   0.        , ...,   0.        ,\n",
       "           0.        ,   0.        ],\n",
       "        [  0.        ,   0.        ,   0.        , ...,   0.        ,\n",
       "           0.        ,   0.        ],\n",
       "        [  0.        ,   0.        ,   0.        , ...,   0.        ,\n",
       "           0.        ,   0.        ]]], dtype=float32)"
      ]
     },
     "execution_count": 13,
     "metadata": {},
     "output_type": "execute_result"
    }
   ],
   "source": [
    "X_train"
   ]
  },
  {
   "cell_type": "code",
   "execution_count": null,
   "id": "a1a5b120",
   "metadata": {},
   "outputs": [],
   "source": []
  }
 ],
 "metadata": {
  "kernelspec": {
   "display_name": "voice-recognition",
   "language": "python",
   "name": "voice-recognition"
  },
  "language_info": {
   "codemirror_mode": {
    "name": "ipython",
    "version": 3
   },
   "file_extension": ".py",
   "mimetype": "text/x-python",
   "name": "python",
   "nbconvert_exporter": "python",
   "pygments_lexer": "ipython3",
   "version": "3.9.9"
  }
 },
 "nbformat": 4,
 "nbformat_minor": 5
}
