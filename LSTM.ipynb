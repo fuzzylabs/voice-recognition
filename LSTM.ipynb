{
 "cells": [
  {
   "cell_type": "markdown",
   "id": "2f6b58e4",
   "metadata": {},
   "source": [
    "Generate a spectrogram from a .wav file"
   ]
  },
  {
   "cell_type": "code",
   "execution_count": null,
   "id": "cc2d78d2",
   "metadata": {},
   "outputs": [],
   "source": [
    "# import matplotlib.pyplot as plt\n",
    "# import IPython.display as ipd \n",
    "import librosa\n",
    "import librosa.display\n",
    "import numpy as np\n",
    "\n",
    "\n",
    "def spectrogram_from_file(file_path, max_freq=10000):\n",
    "    samples, sampling_rate = librosa.load(file_path, sr=None, mono=True, offset=0.0, duration=None)\n",
    "    X = librosa.stft(samples)\n",
    "    return librosa.amplitude_to_db(abs(X))\n",
    "    \n",
    "#     plt.figure(figsize=(14, 5))\n",
    "#     librosa.display.specshow(Xdb, sr=sampling_rate, x_axis='time', y_axis='hz')\n",
    "#     plt.colorbar()\n",
    "\n",
    "spectrogram_from_file(\"audio/hello.wav\")"
   ]
  },
  {
   "cell_type": "code",
   "execution_count": null,
   "id": "f3a8b547",
   "metadata": {},
   "outputs": [],
   "source": [
    "X = []\n",
    "y = []\n",
    "\n",
    "hello_value = 0\n",
    "goodbye_value = 1\n",
    "\n",
    "for i in range(1, 21):\n",
    "    X.append(spectrogram_from_file(f\"audio/hello/{i}.wav\"))\n",
    "    y.append(hello_value)\n",
    "\n",
    "for i in range(1, 21):\n",
    "    X.append(spectrogram_from_file(f\"audio/goodbye/{i}.wav\"))\n",
    "    y.append(goodbye_value)"
   ]
  },
  {
   "cell_type": "code",
   "execution_count": null,
   "id": "eee0061a",
   "metadata": {},
   "outputs": [],
   "source": [
    "from sklearn.model_selection import train_test_split\n",
    "\n",
    "maximum_X = max([i.shape[1] for i in X])\n",
    "# Pad the values of X with 0s upto the maximum time steps and transpose the matrix\n",
    "X = [np.pad(i, [(0,0), (0, maximum_X - i.shape[1])], constant_values=(0,)).T for i in X]\n",
    "\n",
    "X, y = np.array(X), np.array(y)\n",
    "\n",
    "X_train, X_test, y_train, y_test = train_test_split(X, y, test_size=0.25, random_state=42)\n",
    "\n",
    "# np.reshape(X_train, (X_train.shape[0], X_train.shape[1], 1))\n",
    "X_train.shape"
   ]
  },
  {
   "cell_type": "code",
   "execution_count": null,
   "id": "00f273bf",
   "metadata": {},
   "outputs": [],
   "source": [
    "from keras.models import Sequential\n",
    "from keras.layers import Dense\n",
    "from keras.layers import LSTM\n",
    "from keras.layers import Dropout\n",
    "from keras.layers import Flatten\n",
    "\n",
    "model = Sequential()\n",
    "\n",
    "model.add(LSTM(units = 50, return_sequences = False, input_shape = (196, 1025)))\n",
    "model.add(Dropout(0.2))\n",
    "\n",
    "model.add(Dense(units = 1, activation = \"sigmoid\"))\n",
    "\n",
    "model.compile(optimizer = 'adam', loss = 'mean_squared_error', metrics=[\"accuracy\"])\n",
    "\n",
    "\n",
    "model.fit(X_train, y_train, epochs = 100, batch_size = 32)\n"
   ]
  },
  {
   "cell_type": "code",
   "execution_count": null,
   "id": "61bfc95f",
   "metadata": {},
   "outputs": [],
   "source": [
    "# regressor.predict(X_train)\n",
    "# regressor(X_test).shape\n",
    "model.summary()"
   ]
  },
  {
   "cell_type": "code",
   "execution_count": null,
   "id": "ace76e67",
   "metadata": {},
   "outputs": [],
   "source": [
    "model.predict(X_test)"
   ]
  },
  {
   "cell_type": "code",
   "execution_count": null,
   "id": "635243b3",
   "metadata": {},
   "outputs": [],
   "source": [
    "y_test"
   ]
  },
  {
   "cell_type": "code",
   "execution_count": null,
   "id": "fa062e3a",
   "metadata": {},
   "outputs": [],
   "source": [
    "model.evaluate(X_test, y_test, verbose = 1)"
   ]
  }
 ],
 "metadata": {
  "kernelspec": {
   "display_name": "voice-recognition",
   "language": "python",
   "name": "voice-recognition"
  },
  "language_info": {
   "codemirror_mode": {
    "name": "ipython",
    "version": 3
   },
   "file_extension": ".py",
   "mimetype": "text/x-python",
   "name": "python",
   "nbconvert_exporter": "python",
   "pygments_lexer": "ipython3",
   "version": "3.9.9"
  }
 },
 "nbformat": 4,
 "nbformat_minor": 5
}
